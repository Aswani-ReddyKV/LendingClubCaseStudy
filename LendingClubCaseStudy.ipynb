{
 "cells": [
  {
   "cell_type": "markdown",
   "metadata": {},
   "source": [
    "# Heading of the problem statement"
   ]
  },
  {
   "cell_type": "markdown",
   "metadata": {},
   "source": [
    "One liner descripition about the code it is going to do"
   ]
  },
  {
   "cell_type": "markdown",
   "metadata": {},
   "source": [
    "**Problem Statement**\n",
    "\n",
    "Talk about the problem statement we are going to solve.\n",
    "- subpoint1\n",
    "- subpoint2\n"
   ]
  },
  {
   "cell_type": "markdown",
   "metadata": {},
   "source": [
    "\n",
    "\n",
    "### Part 1 - Describe about the steps taken in this section i,e part-1"
   ]
  },
  {
   "cell_type": "code",
   "execution_count": 1,
   "metadata": {},
   "outputs": [],
   "source": [
    "#import the libraries\n",
    "import pandas as pd\n",
    "import numpy as np\n",
    "import warnings\n",
    "warnings.filterwarnings(\"ignore\")\n",
    "import seaborn as sns"
   ]
  },
  {
   "cell_type": "markdown",
   "metadata": {},
   "source": [
    "### Part 2 - Describe about the steps taken in this section i,e part-2"
   ]
  },
  {
   "cell_type": "markdown",
   "metadata": {},
   "source": [
    "Give some comments about the below code is going to do\n",
    " "
   ]
  },
  {
   "cell_type": "code",
   "execution_count": 2,
   "metadata": {},
   "outputs": [
    {
     "data": {
      "text/plain": [
       "id                              int64\n",
       "member_id                       int64\n",
       "loan_amnt                       int64\n",
       "funded_amnt                     int64\n",
       "funded_amnt_inv               float64\n",
       "                               ...   \n",
       "tax_liens                     float64\n",
       "tot_hi_cred_lim               float64\n",
       "total_bal_ex_mort             float64\n",
       "total_bc_limit                float64\n",
       "total_il_high_credit_limit    float64\n",
       "Length: 111, dtype: object"
      ]
     },
     "execution_count": 2,
     "metadata": {},
     "output_type": "execute_result"
    }
   ],
   "source": [
    "# Set few options for Dataframe which will be helpfull in viewing the output\n",
    "#pd.set_option('display.max_column', None)\n",
    "#pd.set_option('display.max_rows', None)\n",
    "#pd.set_option('display.max_seq_items', None)\n",
    "#pd.set_option('display.max_colwidth', 100)\n",
    "#pd.set_option('expand_frame_repr', True)\n",
    "#Check the datatypes of all the columns of the dataframe\n",
    "lendingDF = pd.read_csv('loan.csv')\n",
    "lendingDF.dtypes"
   ]
  },
  {
   "cell_type": "code",
   "execution_count": 3,
   "metadata": {},
   "outputs": [
    {
     "data": {
      "text/plain": [
       "(39717, 111)"
      ]
     },
     "execution_count": 3,
     "metadata": {},
     "output_type": "execute_result"
    }
   ],
   "source": [
    "#Get the total number of rows and columns  present\n",
    "lendingDF.shape"
   ]
  },
  {
   "cell_type": "code",
   "execution_count": 4,
   "metadata": {},
   "outputs": [
    {
     "data": {
      "text/plain": [
       "(39717, 54)"
      ]
     },
     "execution_count": 4,
     "metadata": {},
     "output_type": "execute_result"
    }
   ],
   "source": [
    "#Drop Columns in which more than 40% of them are having NaN values or not having any values\n",
    "rowcounts = lendingDF.shape[0]\n",
    "columnheaders = columnheaders = list(lendingDF.columns.values)\n",
    "\n",
    "null_columnnames=[]\n",
    "for x in columnheaders:\n",
    "    sum = lendingDF[x].isnull().sum()\n",
    "    null_percentage = (sum/rowcounts) * 100\n",
    "    if null_percentage > 40:\n",
    "        null_columnnames.append(x)\n",
    "\n",
    "lendingDF.drop(null_columnnames,axis=1,inplace=True)\n",
    "#Get the total number of rows and columns  present after Stage-1 cleanup \n",
    "lendingDF.shape"
   ]
  },
  {
   "cell_type": "code",
   "execution_count": 5,
   "metadata": {},
   "outputs": [
    {
     "data": {
      "text/plain": [
       "(39717, 45)"
      ]
     },
     "execution_count": 5,
     "metadata": {},
     "output_type": "execute_result"
    }
   ],
   "source": [
    "#Drop Columns in which there are only unquie values present. AS these values donot provide any further information\n",
    "rowcounts = lendingDF.shape[0]\n",
    "#GEt the new set of column headers\n",
    "columnheaders = columnheaders = list(lendingDF.columns.values)\n",
    "uniquevalues_columns = []\n",
    "for x in columnheaders:\n",
    "    if lendingDF[x].nunique()==1:\n",
    "        uniquevalues_columns.append(x)\n",
    "\n",
    "lendingDF.drop(uniquevalues_columns,axis=1,inplace=True)\n",
    "#Get the total number of rows and columns  present after Stage-2 cleanup \n",
    "lendingDF.shape"
   ]
  },
  {
   "cell_type": "code",
   "execution_count": 6,
   "metadata": {},
   "outputs": [
    {
     "data": {
      "text/html": [
       "<div>\n",
       "<style scoped>\n",
       "    .dataframe tbody tr th:only-of-type {\n",
       "        vertical-align: middle;\n",
       "    }\n",
       "\n",
       "    .dataframe tbody tr th {\n",
       "        vertical-align: top;\n",
       "    }\n",
       "\n",
       "    .dataframe thead th {\n",
       "        text-align: right;\n",
       "    }\n",
       "</style>\n",
       "<table border=\"1\" class=\"dataframe\">\n",
       "  <thead>\n",
       "    <tr style=\"text-align: right;\">\n",
       "      <th></th>\n",
       "      <th>id</th>\n",
       "      <th>member_id</th>\n",
       "      <th>loan_amnt</th>\n",
       "      <th>funded_amnt</th>\n",
       "      <th>funded_amnt_inv</th>\n",
       "      <th>term</th>\n",
       "      <th>int_rate</th>\n",
       "      <th>installment</th>\n",
       "      <th>grade</th>\n",
       "      <th>sub_grade</th>\n",
       "      <th>...</th>\n",
       "      <th>total_pymnt_inv</th>\n",
       "      <th>total_rec_prncp</th>\n",
       "      <th>total_rec_int</th>\n",
       "      <th>total_rec_late_fee</th>\n",
       "      <th>recoveries</th>\n",
       "      <th>collection_recovery_fee</th>\n",
       "      <th>last_pymnt_d</th>\n",
       "      <th>last_pymnt_amnt</th>\n",
       "      <th>last_credit_pull_d</th>\n",
       "      <th>pub_rec_bankruptcies</th>\n",
       "    </tr>\n",
       "  </thead>\n",
       "  <tbody>\n",
       "    <tr>\n",
       "      <th>0</th>\n",
       "      <td>1077501</td>\n",
       "      <td>1296599</td>\n",
       "      <td>5000</td>\n",
       "      <td>5000</td>\n",
       "      <td>4975.0</td>\n",
       "      <td>36 months</td>\n",
       "      <td>10.65%</td>\n",
       "      <td>162.87</td>\n",
       "      <td>B</td>\n",
       "      <td>B2</td>\n",
       "      <td>...</td>\n",
       "      <td>5833.84</td>\n",
       "      <td>5000.00</td>\n",
       "      <td>863.16</td>\n",
       "      <td>0.00</td>\n",
       "      <td>0.00</td>\n",
       "      <td>0.00</td>\n",
       "      <td>Jan-15</td>\n",
       "      <td>171.62</td>\n",
       "      <td>May-16</td>\n",
       "      <td>0.0</td>\n",
       "    </tr>\n",
       "    <tr>\n",
       "      <th>1</th>\n",
       "      <td>1077430</td>\n",
       "      <td>1314167</td>\n",
       "      <td>2500</td>\n",
       "      <td>2500</td>\n",
       "      <td>2500.0</td>\n",
       "      <td>60 months</td>\n",
       "      <td>15.27%</td>\n",
       "      <td>59.83</td>\n",
       "      <td>C</td>\n",
       "      <td>C4</td>\n",
       "      <td>...</td>\n",
       "      <td>1008.71</td>\n",
       "      <td>456.46</td>\n",
       "      <td>435.17</td>\n",
       "      <td>0.00</td>\n",
       "      <td>117.08</td>\n",
       "      <td>1.11</td>\n",
       "      <td>Apr-13</td>\n",
       "      <td>119.66</td>\n",
       "      <td>Sep-13</td>\n",
       "      <td>0.0</td>\n",
       "    </tr>\n",
       "    <tr>\n",
       "      <th>2</th>\n",
       "      <td>1077175</td>\n",
       "      <td>1313524</td>\n",
       "      <td>2400</td>\n",
       "      <td>2400</td>\n",
       "      <td>2400.0</td>\n",
       "      <td>36 months</td>\n",
       "      <td>15.96%</td>\n",
       "      <td>84.33</td>\n",
       "      <td>C</td>\n",
       "      <td>C5</td>\n",
       "      <td>...</td>\n",
       "      <td>3005.67</td>\n",
       "      <td>2400.00</td>\n",
       "      <td>605.67</td>\n",
       "      <td>0.00</td>\n",
       "      <td>0.00</td>\n",
       "      <td>0.00</td>\n",
       "      <td>Jun-14</td>\n",
       "      <td>649.91</td>\n",
       "      <td>May-16</td>\n",
       "      <td>0.0</td>\n",
       "    </tr>\n",
       "    <tr>\n",
       "      <th>3</th>\n",
       "      <td>1076863</td>\n",
       "      <td>1277178</td>\n",
       "      <td>10000</td>\n",
       "      <td>10000</td>\n",
       "      <td>10000.0</td>\n",
       "      <td>36 months</td>\n",
       "      <td>13.49%</td>\n",
       "      <td>339.31</td>\n",
       "      <td>C</td>\n",
       "      <td>C1</td>\n",
       "      <td>...</td>\n",
       "      <td>12231.89</td>\n",
       "      <td>10000.00</td>\n",
       "      <td>2214.92</td>\n",
       "      <td>16.97</td>\n",
       "      <td>0.00</td>\n",
       "      <td>0.00</td>\n",
       "      <td>Jan-15</td>\n",
       "      <td>357.48</td>\n",
       "      <td>Apr-16</td>\n",
       "      <td>0.0</td>\n",
       "    </tr>\n",
       "    <tr>\n",
       "      <th>4</th>\n",
       "      <td>1075358</td>\n",
       "      <td>1311748</td>\n",
       "      <td>3000</td>\n",
       "      <td>3000</td>\n",
       "      <td>3000.0</td>\n",
       "      <td>60 months</td>\n",
       "      <td>12.69%</td>\n",
       "      <td>67.79</td>\n",
       "      <td>B</td>\n",
       "      <td>B5</td>\n",
       "      <td>...</td>\n",
       "      <td>3513.33</td>\n",
       "      <td>2475.94</td>\n",
       "      <td>1037.39</td>\n",
       "      <td>0.00</td>\n",
       "      <td>0.00</td>\n",
       "      <td>0.00</td>\n",
       "      <td>May-16</td>\n",
       "      <td>67.79</td>\n",
       "      <td>May-16</td>\n",
       "      <td>0.0</td>\n",
       "    </tr>\n",
       "  </tbody>\n",
       "</table>\n",
       "<p>5 rows × 45 columns</p>\n",
       "</div>"
      ],
      "text/plain": [
       "        id  member_id  loan_amnt  funded_amnt  funded_amnt_inv        term  \\\n",
       "0  1077501    1296599       5000         5000           4975.0   36 months   \n",
       "1  1077430    1314167       2500         2500           2500.0   60 months   \n",
       "2  1077175    1313524       2400         2400           2400.0   36 months   \n",
       "3  1076863    1277178      10000        10000          10000.0   36 months   \n",
       "4  1075358    1311748       3000         3000           3000.0   60 months   \n",
       "\n",
       "  int_rate  installment grade sub_grade  ... total_pymnt_inv total_rec_prncp  \\\n",
       "0   10.65%       162.87     B        B2  ...         5833.84         5000.00   \n",
       "1   15.27%        59.83     C        C4  ...         1008.71          456.46   \n",
       "2   15.96%        84.33     C        C5  ...         3005.67         2400.00   \n",
       "3   13.49%       339.31     C        C1  ...        12231.89        10000.00   \n",
       "4   12.69%        67.79     B        B5  ...         3513.33         2475.94   \n",
       "\n",
       "  total_rec_int  total_rec_late_fee recoveries collection_recovery_fee  \\\n",
       "0        863.16                0.00       0.00                    0.00   \n",
       "1        435.17                0.00     117.08                    1.11   \n",
       "2        605.67                0.00       0.00                    0.00   \n",
       "3       2214.92               16.97       0.00                    0.00   \n",
       "4       1037.39                0.00       0.00                    0.00   \n",
       "\n",
       "  last_pymnt_d last_pymnt_amnt last_credit_pull_d pub_rec_bankruptcies  \n",
       "0       Jan-15          171.62             May-16                  0.0  \n",
       "1       Apr-13          119.66             Sep-13                  0.0  \n",
       "2       Jun-14          649.91             May-16                  0.0  \n",
       "3       Jan-15          357.48             Apr-16                  0.0  \n",
       "4       May-16           67.79             May-16                  0.0  \n",
       "\n",
       "[5 rows x 45 columns]"
      ]
     },
     "execution_count": 6,
     "metadata": {},
     "output_type": "execute_result"
    }
   ],
   "source": [
    "lendingDF.head(5)"
   ]
  },
  {
   "cell_type": "code",
   "execution_count": 7,
   "metadata": {},
   "outputs": [
    {
     "data": {
      "text/plain": [
       "(39717, 41)"
      ]
     },
     "execution_count": 7,
     "metadata": {},
     "output_type": "execute_result"
    }
   ],
   "source": [
    "#Drop 'member_id','id','url', 'desc' as this column has only unique values and is of not much use in the EDA topic.\n",
    "lendingDF.drop(['member_id','id','url','desc'],axis=1,inplace=True)\n",
    "#Get the total number of rows and columns  present after Stage-3 cleanup \n",
    "lendingDF.shape"
   ]
  },
  {
   "cell_type": "code",
   "execution_count": 8,
   "metadata": {},
   "outputs": [
    {
     "data": {
      "text/plain": [
       "(39717, 39)"
      ]
     },
     "execution_count": 8,
     "metadata": {},
     "output_type": "execute_result"
    }
   ],
   "source": [
    "#On analysis of the \"emp_title\", column with values_count(), we can see only two values are there which are having more than 100\n",
    "#Overall % of these records is less than 1%. So by dropping them we will not have much impact on the EDA topic.\n",
    "lendingDF.drop(['emp_title','zip_code'],axis=1,inplace=True)\n",
    "lendingDF.shape"
   ]
  },
  {
   "cell_type": "code",
   "execution_count": 9,
   "metadata": {},
   "outputs": [
    {
     "name": "stdout",
     "output_type": "stream",
     "text": [
      "<class 'pandas.core.frame.DataFrame'>\n",
      "RangeIndex: 39717 entries, 0 to 39716\n",
      "Data columns (total 39 columns):\n",
      " #   Column                   Non-Null Count  Dtype  \n",
      "---  ------                   --------------  -----  \n",
      " 0   loan_amnt                39717 non-null  int64  \n",
      " 1   funded_amnt              39717 non-null  int64  \n",
      " 2   funded_amnt_inv          39717 non-null  float64\n",
      " 3   term                     39717 non-null  object \n",
      " 4   int_rate                 39717 non-null  object \n",
      " 5   installment              39717 non-null  float64\n",
      " 6   grade                    39717 non-null  object \n",
      " 7   sub_grade                39717 non-null  object \n",
      " 8   emp_length               38642 non-null  object \n",
      " 9   home_ownership           39717 non-null  object \n",
      " 10  annual_inc               39717 non-null  float64\n",
      " 11  verification_status      39717 non-null  object \n",
      " 12  issue_d                  39717 non-null  object \n",
      " 13  loan_status              39717 non-null  object \n",
      " 14  purpose                  39717 non-null  object \n",
      " 15  title                    39706 non-null  object \n",
      " 16  addr_state               39717 non-null  object \n",
      " 17  dti                      39717 non-null  float64\n",
      " 18  delinq_2yrs              39717 non-null  int64  \n",
      " 19  earliest_cr_line         39717 non-null  object \n",
      " 20  inq_last_6mths           39717 non-null  int64  \n",
      " 21  open_acc                 39717 non-null  int64  \n",
      " 22  pub_rec                  39717 non-null  int64  \n",
      " 23  revol_bal                39717 non-null  int64  \n",
      " 24  revol_util               39667 non-null  object \n",
      " 25  total_acc                39717 non-null  int64  \n",
      " 26  out_prncp                39717 non-null  float64\n",
      " 27  out_prncp_inv            39717 non-null  float64\n",
      " 28  total_pymnt              39717 non-null  float64\n",
      " 29  total_pymnt_inv          39717 non-null  float64\n",
      " 30  total_rec_prncp          39717 non-null  float64\n",
      " 31  total_rec_int            39717 non-null  float64\n",
      " 32  total_rec_late_fee       39717 non-null  float64\n",
      " 33  recoveries               39717 non-null  float64\n",
      " 34  collection_recovery_fee  39717 non-null  float64\n",
      " 35  last_pymnt_d             39646 non-null  object \n",
      " 36  last_pymnt_amnt          39717 non-null  float64\n",
      " 37  last_credit_pull_d       39715 non-null  object \n",
      " 38  pub_rec_bankruptcies     39020 non-null  float64\n",
      "dtypes: float64(15), int64(8), object(16)\n",
      "memory usage: 11.8+ MB\n"
     ]
    }
   ],
   "source": [
    "lendingDF.info()"
   ]
  },
  {
   "cell_type": "code",
   "execution_count": 10,
   "metadata": {},
   "outputs": [
    {
     "name": "stdout",
     "output_type": "stream",
     "text": [
      "emp_length 1075\n",
      "title 11\n",
      "revol_util 50\n",
      "last_pymnt_d 71\n",
      "last_credit_pull_d 2\n",
      "pub_rec_bankruptcies 697\n"
     ]
    }
   ],
   "source": [
    "#Findout columns which are having missing values\n",
    "columnheaders = columnheaders = list(lendingDF.columns.values)\n",
    "\n",
    "for x in columnheaders:\n",
    "    sum = lendingDF[x].isnull().sum()\n",
    "    if sum > 0:\n",
    "        print(x,sum)"
   ]
  },
  {
   "cell_type": "code",
   "execution_count": 11,
   "metadata": {},
   "outputs": [],
   "source": [
    "#Fill missing values in \"emp_length\" column\n",
    "#Convert the data type into string\n",
    "lendingDF['emp_length'] = lendingDF['emp_length'].astype(\"string\")\n",
    "lendingDF['emp_length'] = lendingDF['emp_length'].fillna(lendingDF['emp_length'].mode()[0])"
   ]
  },
  {
   "cell_type": "code",
   "execution_count": 12,
   "metadata": {},
   "outputs": [
    {
     "data": {
      "text/plain": [
       "0"
      ]
     },
     "execution_count": 12,
     "metadata": {},
     "output_type": "execute_result"
    }
   ],
   "source": [
    "#Fill missing values in \"revol_util\" column by converting into string and later using apply convert to float\n",
    "lendingDF['revol_util'] = lendingDF['revol_util'].astype(\"string\")\n",
    "lendingDF['revol_util'] = lendingDF['revol_util'].fillna(lendingDF['revol_util'].mode()[0])\n",
    "lendingDF['revol_util'] = lendingDF['revol_util'].apply(lambda x: float(x[:-1]))\n",
    "lendingDF['revol_util'].isnull().sum()"
   ]
  },
  {
   "cell_type": "code",
   "execution_count": 13,
   "metadata": {},
   "outputs": [
    {
     "data": {
      "text/plain": [
       "0"
      ]
     },
     "execution_count": 13,
     "metadata": {},
     "output_type": "execute_result"
    }
   ],
   "source": [
    "#Fill missing values in 'title' column using mode method.(First convert to string and then used mode)\n",
    "lendingDF['title'] = lendingDF['title'].astype(\"string\")\n",
    "lendingDF['title'] = lendingDF['title'].fillna(lendingDF['title'].mode()[0])\n",
    "lendingDF['title'].isnull().sum()"
   ]
  },
  {
   "cell_type": "code",
   "execution_count": 14,
   "metadata": {},
   "outputs": [
    {
     "data": {
      "text/plain": [
       "0"
      ]
     },
     "execution_count": 14,
     "metadata": {},
     "output_type": "execute_result"
    }
   ],
   "source": [
    "#Fill missing values in 'last_pymnt_d' column using mode method.(First convert to string and then used mode)\n",
    "lendingDF['last_pymnt_d'] = lendingDF['last_pymnt_d'].astype(\"string\")\n",
    "lendingDF['last_pymnt_d'] = lendingDF['last_pymnt_d'].fillna(lendingDF['last_pymnt_d'].mode()[0])\n",
    "lendingDF['last_pymnt_d'].isnull().sum()"
   ]
  },
  {
   "cell_type": "code",
   "execution_count": 15,
   "metadata": {},
   "outputs": [
    {
     "data": {
      "text/plain": [
       "0"
      ]
     },
     "execution_count": 15,
     "metadata": {},
     "output_type": "execute_result"
    }
   ],
   "source": [
    "#Fill missing values in 'last_credit_pull_d' column using mode method.(First convert to string and then used mode)\n",
    "lendingDF['last_credit_pull_d'] = lendingDF['last_credit_pull_d'].astype(\"string\")\n",
    "lendingDF['last_credit_pull_d'] = lendingDF['last_credit_pull_d'].fillna(lendingDF['last_credit_pull_d'].mode()[0])\n",
    "lendingDF['last_credit_pull_d'].isnull().sum()"
   ]
  },
  {
   "cell_type": "code",
   "execution_count": 16,
   "metadata": {},
   "outputs": [
    {
     "data": {
      "text/plain": [
       "(39020, 39)"
      ]
     },
     "execution_count": 16,
     "metadata": {},
     "output_type": "execute_result"
    }
   ],
   "source": [
    "#Dropping rows having null values in column 'pub_rec_bankruptcies'\n",
    "lendingDF = lendingDF[~(lendingDF['pub_rec_bankruptcies'].isnull())]\n",
    "lendingDF['pub_rec_bankruptcies'].isnull().sum()\n",
    "lendingDF.shape"
   ]
  },
  {
   "cell_type": "code",
   "execution_count": 17,
   "metadata": {},
   "outputs": [],
   "source": [
    "lendingDF['int_rate'] = lendingDF['int_rate'].astype(\"string\")\n",
    "lendingDF['int_rate'] = lendingDF['int_rate'].apply(lambda x: float(x[:-1]))"
   ]
  },
  {
   "cell_type": "code",
   "execution_count": 39,
   "metadata": {},
   "outputs": [],
   "source": [
    "lendingDF['revol_util'] = lendingDF['int_rate'].astype(\"float32\")"
   ]
  },
  {
   "cell_type": "code",
   "execution_count": null,
   "metadata": {},
   "outputs": [],
   "source": []
  },
  {
   "cell_type": "markdown",
   "metadata": {},
   "source": [
    "#### Comments"
   ]
  },
  {
   "cell_type": "code",
   "execution_count": 30,
   "metadata": {},
   "outputs": [],
   "source": [
    "#Check the number of null values in the columns"
   ]
  },
  {
   "cell_type": "markdown",
   "metadata": {},
   "source": [
    "Additional comments"
   ]
  }
 ],
 "metadata": {
  "kernelspec": {
   "display_name": "Python 3",
   "language": "python",
   "name": "python3"
  },
  "language_info": {
   "codemirror_mode": {
    "name": "ipython",
    "version": 3
   },
   "file_extension": ".py",
   "mimetype": "text/x-python",
   "name": "python",
   "nbconvert_exporter": "python",
   "pygments_lexer": "ipython3",
   "version": "3.11.4"
  }
 },
 "nbformat": 4,
 "nbformat_minor": 2
}
